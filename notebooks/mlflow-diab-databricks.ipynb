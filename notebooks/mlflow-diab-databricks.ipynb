{
 "cells": [
  {
   "cell_type": "code",
   "execution_count": 0,
   "metadata": {
    "application/vnd.databricks.v1+cell": {
     "cellMetadata": {
      "byteLimit": 2048000,
      "rowLimit": 10000
     },
     "inputWidgets": {},
     "nuid": "964b5716-b140-4bab-9a14-0a74af4a9ea6",
     "showTitle": false,
     "tableResultSettingsMap": {},
     "title": ""
    }
   },
   "outputs": [],
   "source": [
    "# Importe el conjunto de datos de diabetes y divídalo en entrenamiento y prueba usando scikit-learn\n",
    "from sklearn.model_selection import train_test_split\n",
    "from sklearn.datasets import load_diabetes\n",
    "\n",
    "db = load_diabetes()\n",
    "X = db.data\n",
    "y = db.target\n",
    "X_train, X_test, y_train, y_test = train_test_split(X, y)"
   ]
  },
  {
   "cell_type": "code",
   "execution_count": 0,
   "metadata": {
    "application/vnd.databricks.v1+cell": {
     "cellMetadata": {
      "byteLimit": 2048000,
      "rowLimit": 10000
     },
     "inputWidgets": {},
     "nuid": "c600ec98-dda6-4fee-a906-5d5e8e11d215",
     "showTitle": false,
     "tableResultSettingsMap": {},
     "title": ""
    }
   },
   "outputs": [
    {
     "output_type": "stream",
     "name": "stderr",
     "output_type": "stream",
     "text": [
      "\u001B[31m2025/10/26 00:42:16 WARNING mlflow.models.model: Model logged without a signature and input example. Please set `input_example` parameter when logging the model to auto infer the model signature.\u001B[0m\n"
     ]
    },
    {
     "output_type": "stream",
     "name": "stdout",
     "output_type": "stream",
     "text": [
      "3175.2570574921133\n"
     ]
    }
   ],
   "source": [
    "#Importe MLFlow para registrar los experimentos, el regresor de bosques aleatorios y la métrica de error cuadrático medio\n",
    "import mlflow\n",
    "import mlflow.sklearn\n",
    "from sklearn.ensemble import RandomForestRegressor\n",
    "from sklearn.metrics import mean_squared_error\n",
    "\n",
    "# defina el servidor para llevar el registro de modelos y artefactos\n",
    "# mlflow.set_tracking_uri('http://localhost:5000')\n",
    "# registre el experimento\n",
    "experiment = mlflow.set_experiment(\"/sklearn-diab-rony\")\n",
    "\n",
    "# Aquí se ejecuta MLflow sin especificar un nombre o id del experimento. MLflow los crea un experimento para este cuaderno por defecto y guarda las características del experimento y las métricas definidas. \n",
    "# Para ver el resultado de las corridas haga click en Experimentos en el menú izquierdo. \n",
    "with mlflow.start_run(experiment_id=experiment.experiment_id):\n",
    "    # defina los parámetros del modelo\n",
    "    n_estimators = 400 \n",
    "    max_depth = 6\n",
    "    max_features = 4\n",
    "    # Cree el modelo con los parámetros definidos y entrénelo\n",
    "    rf = RandomForestRegressor(n_estimators = n_estimators, max_depth = max_depth, max_features = max_features)\n",
    "    rf.fit(X_train, y_train)\n",
    "    # Realice predicciones de prueba\n",
    "    predictions = rf.predict(X_test)\n",
    "  \n",
    "    # Registre los parámetros\n",
    "    mlflow.log_param(\"num_trees\", n_estimators)\n",
    "    mlflow.log_param(\"maxdepth\", max_depth)\n",
    "    mlflow.log_param(\"max_feat\", max_features)\n",
    "  \n",
    "    # Registre el modelo\n",
    "    mlflow.sklearn.log_model(rf, \"random-forest-model\")\n",
    "  \n",
    "    # Cree y registre la métrica de interés\n",
    "    mse = mean_squared_error(y_test, predictions)\n",
    "    mlflow.log_metric(\"mse\", mse)\n",
    "    print(mse)"
   ]
  }
 ],
 "metadata": {
  "application/vnd.databricks.v1+notebook": {
   "computePreferences": {
    "hardware": {
     "accelerator": null,
     "gpuPoolId": null,
     "memory": null
    }
   },
   "dashboards": [],
   "environmentMetadata": {
    "base_environment": "",
    "environment_version": "4"
   },
   "inputWidgetPreferences": null,
   "language": "python",
   "notebookMetadata": {
    "pythonIndentUnit": 4
   },
   "notebookName": "mlflow-diab-databricks",
   "widgets": {}
  },
  "language_info": {
   "name": "python"
  }
 },
 "nbformat": 4,
 "nbformat_minor": 0
}